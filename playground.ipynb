{
 "cells": [
  {
   "cell_type": "markdown",
   "metadata": {},
   "source": [
    "# control-evaluations"
   ]
  },
  {
   "cell_type": "code",
   "execution_count": 1,
   "metadata": {},
   "outputs": [
    {
     "name": "stdout",
     "output_type": "stream",
     "text": [
      "Repository cloned and data prepared at ./cloned_repos\\backdoor_control_spar_compiled.txt\n"
     ]
    }
   ],
   "source": [
    "from gh_llm_loader import clone_and_prepare_repo\n",
    "\n",
    "# Define the GitHub repository URL\n",
    "# git_url = \"https://github.com/yourusername/yourrepository.git\"\n",
    "# git_url = \"https://github.com/jralduaveuthey/control-evaluations.git\"\n",
    "git_url = \"https://github.com/abhatt349/backdoor_control_spar.git\"\n",
    "\n",
    "# Clone and prepare the repository, specifying folders and files to ignore\n",
    "# clone_and_prepare_repo(git_url, ignored_folders={'.vscode', '.github', 'tools', 'tests', 'benchmarks', 'examples'}, ignored_files={'.vscode','.github','*.csv','.gitattributes','.gitignore','.pre-commit-config.yaml','CHANGELOG.md','CHANGELOG.md','pyproject.toml','LICENSE', 'setup.py'})\n",
    "\n",
    "clone_and_prepare_repo(\n",
    "    git_url, \n",
    "    ignored_folders={'.git', 'data', 'my_package.egg-info', 'venv'},\n",
    "    ignored_files={\n",
    "        '*svg',\n",
    "        'LICENSE',\n",
    "        'env.yaml',\n",
    "        '.pre-commit-config.yaml',\n",
    "    }\n",
    ")\n"
   ]
  },
  {
   "cell_type": "markdown",
   "metadata": {},
   "source": [
    "# openai evals"
   ]
  },
  {
   "cell_type": "code",
   "execution_count": 1,
   "metadata": {},
   "outputs": [
    {
     "name": "stdout",
     "output_type": "stream",
     "text": [
      "Error reading ./cloned_repos\\openai_evals\\.git\\index: 'utf-8' codec can't decode byte 0xdf in position 11: invalid continuation byte\n",
      "Error reading ./cloned_repos\\openai_evals\\.git\\lfs\\objects\\60\\bb\\60bbedac103bae669c4cec1037faaa18b87df63ab5d2c61734f2c60211240fd6: 'utf-8' codec can't decode byte 0x89 in position 0: invalid start byte\n",
      "Error reading ./cloned_repos\\openai_evals\\.git\\lfs\\objects\\75\\8a\\758a23f6b4bd7676852af320b28f8b6af61c404d22835eda99f2b8dc89a0277b: 'utf-8' codec can't decode byte 0x89 in position 0: invalid start byte\n",
      "Error reading ./cloned_repos\\openai_evals\\.git\\objects\\pack\\pack-7ba22acd7f81f7fae9f6f359de316e475d0a479d.idx: 'utf-8' codec can't decode byte 0xff in position 0: invalid start byte\n",
      "Error reading ./cloned_repos\\openai_evals\\.git\\objects\\pack\\pack-7ba22acd7f81f7fae9f6f359de316e475d0a479d.pack: 'utf-8' codec can't decode byte 0xfd in position 11: invalid start byte\n",
      "Error reading ./cloned_repos\\openai_evals\\evals\\elsuite\\identifying_variables\\images\\control_var_tree.png: 'utf-8' codec can't decode byte 0x89 in position 0: invalid start byte\n",
      "Error reading ./cloned_repos\\openai_evals\\evals\\elsuite\\identifying_variables\\images\\valid_hyp_tree.png: 'utf-8' codec can't decode byte 0x89 in position 0: invalid start byte\n",
      "Error reading ./cloned_repos\\openai_evals\\evals\\elsuite\\multistep_web_tasks\\docker\\homepage\\static\\figures\\calculator.png: 'utf-8' codec can't decode byte 0x89 in position 0: invalid start byte\n",
      "Error reading ./cloned_repos\\openai_evals\\evals\\elsuite\\multistep_web_tasks\\docker\\homepage\\static\\figures\\cms.png: 'utf-8' codec can't decode byte 0x89 in position 0: invalid start byte\n",
      "Error reading ./cloned_repos\\openai_evals\\evals\\elsuite\\multistep_web_tasks\\docker\\homepage\\static\\figures\\gitlab.png: 'utf-8' codec can't decode byte 0x89 in position 0: invalid start byte\n",
      "Error reading ./cloned_repos\\openai_evals\\evals\\elsuite\\multistep_web_tasks\\docker\\homepage\\static\\figures\\manual1.png: 'utf-8' codec can't decode byte 0x89 in position 0: invalid start byte\n",
      "Error reading ./cloned_repos\\openai_evals\\evals\\elsuite\\multistep_web_tasks\\docker\\homepage\\static\\figures\\manual2.png: 'utf-8' codec can't decode byte 0x89 in position 0: invalid start byte\n",
      "Error reading ./cloned_repos\\openai_evals\\evals\\elsuite\\multistep_web_tasks\\docker\\homepage\\static\\figures\\map.png: 'utf-8' codec can't decode byte 0x89 in position 0: invalid start byte\n",
      "Error reading ./cloned_repos\\openai_evals\\evals\\elsuite\\multistep_web_tasks\\docker\\homepage\\static\\figures\\onestopshop.png: 'utf-8' codec can't decode byte 0x89 in position 0: invalid start byte\n",
      "Error reading ./cloned_repos\\openai_evals\\evals\\elsuite\\multistep_web_tasks\\docker\\homepage\\static\\figures\\password.png: 'utf-8' codec can't decode byte 0x89 in position 0: invalid start byte\n",
      "Error reading ./cloned_repos\\openai_evals\\evals\\elsuite\\multistep_web_tasks\\docker\\homepage\\static\\figures\\reddit.png: 'utf-8' codec can't decode byte 0x89 in position 0: invalid start byte\n",
      "Error reading ./cloned_repos\\openai_evals\\evals\\elsuite\\multistep_web_tasks\\docker\\homepage\\static\\figures\\scratchpad.png: 'utf-8' codec can't decode byte 0x89 in position 0: invalid start byte\n",
      "Error reading ./cloned_repos\\openai_evals\\evals\\elsuite\\multistep_web_tasks\\docker\\homepage\\static\\figures\\wikipedia.png: 'utf-8' codec can't decode byte 0x89 in position 0: invalid start byte\n",
      "Repository cloned and data prepared at ./cloned_repos\\openai_evals_compiled.txt\n"
     ]
    }
   ],
   "source": [
    "from gh_llm_loader import clone_and_prepare_repo\n",
    "\n",
    "# Define the GitHub repository URL\n",
    "git_url = \"https://github.com/jralduaveuthey/openai_evals.git\"\n",
    "\n",
    "# Clone and prepare the repository, specifying folders and files to ignore\n",
    "clone_and_prepare_repo(\n",
    "    git_url,\n",
    "    ignored_folders={\n",
    "        '.vscode',\n",
    "        '.github',\n",
    "        'build',\n",
    "        'docs',\n",
    "        'examples',\n",
    "        'scripts',\n",
    "        'tests',\n",
    "        'evals/cli',\n",
    "        'evals/completion_fns',\n",
    "        'evals/elsuite/already_said_that',\n",
    "        'evals/elsuite/ballots',\n",
    "        'evals/elsuite/basic',\n",
    "        'evals/elsuite/bluff',\n",
    "        'evals/elsuite/bugged_tools',\n",
    "        'evals/elsuite/cant_do_that_anymore',\n",
    "        'evals/elsuite/error_recovery',\n",
    "        'evals/elsuite/function_deduction',\n",
    "        'evals/elsuite/hr_ml_agent_bench',\n",
    "        'evals/elsuite/identifying_variables',\n",
    "        'evals/elsuite/incontext_rl',\n",
    "        'evals/elsuite/make_me_pay',\n",
    "        'evals/elsuite/make_me_say',\n",
    "        'evals/elsuite/mmmu',\n",
    "        'evals/elsuite/modelgraded',\n",
    "        'evals/elsuite/multistep_web_tasks',\n",
    "        'evals/elsuite/sandbagging',\n",
    "        'evals/elsuite/schelling_point',\n",
    "        'evals/elsuite/self_prompting',\n",
    "        'evals/elsuite/skill_acquisition',\n",
    "        'evals/elsuite/steganography',\n",
    "        'evals/elsuite/test',\n",
    "        'evals/elsuite/text_compression',\n",
    "        'evals/elsuite/theory_of_mind',\n",
    "        'evals/elsuite/track_the_stat',\n",
    "        'evals/elsuite/twenty_questions',\n",
    "        'evals/prompt',\n",
    "        'evals/registry',\n",
    "        'evals/solvers',\n",
    "        'evals/utils',\n",
    "    },\n",
    "    ignored_files={\n",
    "        '.vscode',\n",
    "        '.github',\n",
    "        '*.csv',\n",
    "        '.gitattributes',\n",
    "        '.gitignore',\n",
    "        '.pre-commit-config.yaml',\n",
    "        'LEEME.md',\n",
    "        'MANIFEST.in',\n",
    "        'LICENSE',\n",
    "        'Makefile',\n",
    "        'Pipfile',\n",
    "        'Pipfile.lock',\n",
    "        'README.md',\n",
    "        'SECURITY.md',\n",
    "        'mypy.ini',\n",
    "        'evals/__init__.py',\n",
    "        'evals/api.py',\n",
    "        'evals/base.py',\n",
    "        'evals/data.py',\n",
    "        'evals/data_test.py',\n",
    "        'evals/eval.py',\n",
    "        'evals/formatting.py',\n",
    "        'evals/metrics.py',\n",
    "        'evals/record.py',\n",
    "        'evals/record_test.py',\n",
    "        'evals/registry.py',\n",
    "        'evals/registry_test.py',\n",
    "        'evals/task_state.py',\n",
    "    }\n",
    ")\n"
   ]
  }
 ],
 "metadata": {
  "kernelspec": {
   "display_name": "Python 3",
   "language": "python",
   "name": "python3"
  },
  "language_info": {
   "codemirror_mode": {
    "name": "ipython",
    "version": 3
   },
   "file_extension": ".py",
   "mimetype": "text/x-python",
   "name": "python",
   "nbconvert_exporter": "python",
   "pygments_lexer": "ipython3",
   "version": "3.10.13"
  }
 },
 "nbformat": 4,
 "nbformat_minor": 2
}
